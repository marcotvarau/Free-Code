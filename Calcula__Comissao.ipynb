{
  "nbformat": 4,
  "nbformat_minor": 0,
  "metadata": {
    "colab": {
      "name": "Calcula _Comissao",
      "provenance": [],
      "collapsed_sections": [
        "O-NJ9GYOl3lR",
        "x5V-VbVol_B1"
      ]
    },
    "kernelspec": {
      "name": "python3",
      "display_name": "Python 3"
    },
    "language_info": {
      "name": "python"
    }
  },
  "cells": [
    {
      "cell_type": "markdown",
      "metadata": {
        "id": "O-NJ9GYOl3lR"
      },
      "source": [
        "# Código Chato"
      ]
    },
    {
      "cell_type": "code",
      "metadata": {
        "id": "Oqw2b1ljm35f"
      },
      "source": [
        "#@title\n",
        "import pandas as pd\n",
        "import numpy as np\n"
      ],
      "execution_count": null,
      "outputs": []
    },
    {
      "cell_type": "code",
      "metadata": {
        "id": "uyn2uP1ym9XT",
        "colab": {
          "base_uri": "https://localhost:8080/",
          "height": 758
        },
        "outputId": "7e999a97-9e26-42cf-d8c0-a36107d1c355"
      },
      "source": [
        "#@title\n",
        "dados = pd.read_excel('Dashboard.xlsx',sheet_name= \"Comissão simulações\")\n",
        "informacao = dados.iloc[7]\n",
        "dados\n"
      ],
      "execution_count": null,
      "outputs": [
        {
          "output_type": "execute_result",
          "data": {
            "text/html": [
              "<div>\n",
              "<style scoped>\n",
              "    .dataframe tbody tr th:only-of-type {\n",
              "        vertical-align: middle;\n",
              "    }\n",
              "\n",
              "    .dataframe tbody tr th {\n",
              "        vertical-align: top;\n",
              "    }\n",
              "\n",
              "    .dataframe thead th {\n",
              "        text-align: right;\n",
              "    }\n",
              "</style>\n",
              "<table border=\"1\" class=\"dataframe\">\n",
              "  <thead>\n",
              "    <tr style=\"text-align: right;\">\n",
              "      <th></th>\n",
              "      <th>Unnamed: 0</th>\n",
              "      <th>março</th>\n",
              "      <th>abril</th>\n",
              "      <th>maio</th>\n",
              "      <th>junho</th>\n",
              "      <th>julho</th>\n",
              "    </tr>\n",
              "  </thead>\n",
              "  <tbody>\n",
              "    <tr>\n",
              "      <th>0</th>\n",
              "      <td>Receita em Carteira</td>\n",
              "      <td>899475</td>\n",
              "      <td>828971</td>\n",
              "      <td>836561</td>\n",
              "      <td>769951</td>\n",
              "      <td>NaN</td>\n",
              "    </tr>\n",
              "    <tr>\n",
              "      <th>1</th>\n",
              "      <td>Novas receitas</td>\n",
              "      <td>249579</td>\n",
              "      <td>344561</td>\n",
              "      <td>462349</td>\n",
              "      <td>600824</td>\n",
              "      <td>NaN</td>\n",
              "    </tr>\n",
              "    <tr>\n",
              "      <th>2</th>\n",
              "      <td>Receita total</td>\n",
              "      <td>1149054</td>\n",
              "      <td>1173532</td>\n",
              "      <td>1298910</td>\n",
              "      <td>1370775</td>\n",
              "      <td>NaN</td>\n",
              "    </tr>\n",
              "    <tr>\n",
              "      <th>3</th>\n",
              "      <td>NaN</td>\n",
              "      <td>NaN</td>\n",
              "      <td>NaN</td>\n",
              "      <td>NaN</td>\n",
              "      <td>NaN</td>\n",
              "      <td>NaN</td>\n",
              "    </tr>\n",
              "    <tr>\n",
              "      <th>4</th>\n",
              "      <td>CPS % - Receita Total</td>\n",
              "      <td>0.0592</td>\n",
              "      <td>0.0629</td>\n",
              "      <td>0.06</td>\n",
              "      <td>0.0594</td>\n",
              "      <td>NaN</td>\n",
              "    </tr>\n",
              "    <tr>\n",
              "      <th>5</th>\n",
              "      <td>Sobra</td>\n",
              "      <td>0.0108</td>\n",
              "      <td>0.0071</td>\n",
              "      <td>0.01</td>\n",
              "      <td>0.0106</td>\n",
              "      <td>NaN</td>\n",
              "    </tr>\n",
              "    <tr>\n",
              "      <th>6</th>\n",
              "      <td>Sobra $</td>\n",
              "      <td>12409.8</td>\n",
              "      <td>8332.08</td>\n",
              "      <td>12989.1</td>\n",
              "      <td>14530.2</td>\n",
              "      <td>NaN</td>\n",
              "    </tr>\n",
              "    <tr>\n",
              "      <th>7</th>\n",
              "      <td>Comissão (10%)</td>\n",
              "      <td>1240.98</td>\n",
              "      <td>833.208</td>\n",
              "      <td>1298.91</td>\n",
              "      <td>1453.02</td>\n",
              "      <td>956</td>\n",
              "    </tr>\n",
              "    <tr>\n",
              "      <th>8</th>\n",
              "      <td>NaN</td>\n",
              "      <td>NaN</td>\n",
              "      <td>NaN</td>\n",
              "      <td>NaN</td>\n",
              "      <td>NaN</td>\n",
              "      <td>NaN</td>\n",
              "    </tr>\n",
              "    <tr>\n",
              "      <th>9</th>\n",
              "      <td>NaN</td>\n",
              "      <td>NaN</td>\n",
              "      <td>NaN</td>\n",
              "      <td>NaN</td>\n",
              "      <td>NaN</td>\n",
              "      <td>NaN</td>\n",
              "    </tr>\n",
              "    <tr>\n",
              "      <th>10</th>\n",
              "      <td>NaN</td>\n",
              "      <td>NaN</td>\n",
              "      <td>NaN</td>\n",
              "      <td>NaN</td>\n",
              "      <td>NaN</td>\n",
              "      <td>NaN</td>\n",
              "    </tr>\n",
              "    <tr>\n",
              "      <th>11</th>\n",
              "      <td>Account Manager</td>\n",
              "      <td>Remuneração</td>\n",
              "      <td>Meta (7%)</td>\n",
              "      <td>Gerenciado</td>\n",
              "      <td>% CPS</td>\n",
              "      <td>Performance</td>\n",
              "    </tr>\n",
              "    <tr>\n",
              "      <th>12</th>\n",
              "      <td>Adriana Mollo</td>\n",
              "      <td>5000</td>\n",
              "      <td>71428.6</td>\n",
              "      <td>69408.4</td>\n",
              "      <td>0.0720373</td>\n",
              "      <td>0.971718</td>\n",
              "    </tr>\n",
              "    <tr>\n",
              "      <th>13</th>\n",
              "      <td>Gustavo Santana</td>\n",
              "      <td>5000</td>\n",
              "      <td>71428.6</td>\n",
              "      <td>75916.4</td>\n",
              "      <td>0.0658619</td>\n",
              "      <td>1.06283</td>\n",
              "    </tr>\n",
              "    <tr>\n",
              "      <th>14</th>\n",
              "      <td>Gustavo Marcandalli</td>\n",
              "      <td>5000</td>\n",
              "      <td>71428.6</td>\n",
              "      <td>58776.6</td>\n",
              "      <td>0.0850678</td>\n",
              "      <td>0.822873</td>\n",
              "    </tr>\n",
              "    <tr>\n",
              "      <th>15</th>\n",
              "      <td>Paulo Smaniotto</td>\n",
              "      <td>5000</td>\n",
              "      <td>71428.6</td>\n",
              "      <td>53692.6</td>\n",
              "      <td>0.0931227</td>\n",
              "      <td>0.751697</td>\n",
              "    </tr>\n",
              "    <tr>\n",
              "      <th>16</th>\n",
              "      <td>Jocilaine Ribas</td>\n",
              "      <td>5000</td>\n",
              "      <td>71428.6</td>\n",
              "      <td>75753.5</td>\n",
              "      <td>0.0660035</td>\n",
              "      <td>1.06055</td>\n",
              "    </tr>\n",
              "    <tr>\n",
              "      <th>17</th>\n",
              "      <td>NaN</td>\n",
              "      <td>NaN</td>\n",
              "      <td>NaN</td>\n",
              "      <td>NaN</td>\n",
              "      <td>NaN</td>\n",
              "      <td>NaN</td>\n",
              "    </tr>\n",
              "    <tr>\n",
              "      <th>18</th>\n",
              "      <td>Account Manager</td>\n",
              "      <td>Remuneração</td>\n",
              "      <td>Meta (5%)</td>\n",
              "      <td>Gerenciado</td>\n",
              "      <td>% CPS</td>\n",
              "      <td>Performance</td>\n",
              "    </tr>\n",
              "    <tr>\n",
              "      <th>19</th>\n",
              "      <td>Michelle Graça</td>\n",
              "      <td>6000</td>\n",
              "      <td>120000</td>\n",
              "      <td>148088</td>\n",
              "      <td>0.0405164</td>\n",
              "      <td>1.23407</td>\n",
              "    </tr>\n",
              "    <tr>\n",
              "      <th>20</th>\n",
              "      <td>NaN</td>\n",
              "      <td>NaN</td>\n",
              "      <td>NaN</td>\n",
              "      <td>NaN</td>\n",
              "      <td>NaN</td>\n",
              "      <td>NaN</td>\n",
              "    </tr>\n",
              "    <tr>\n",
              "      <th>21</th>\n",
              "      <td>Account Manager</td>\n",
              "      <td>Remuneração</td>\n",
              "      <td>Meta (3%)</td>\n",
              "      <td>Gerenciado</td>\n",
              "      <td>% CPS</td>\n",
              "      <td>Performance</td>\n",
              "    </tr>\n",
              "    <tr>\n",
              "      <th>22</th>\n",
              "      <td>Amanda França</td>\n",
              "      <td>6750</td>\n",
              "      <td>225000</td>\n",
              "      <td>164678</td>\n",
              "      <td>0.0409892</td>\n",
              "      <td>0.7319</td>\n",
              "    </tr>\n",
              "    <tr>\n",
              "      <th>23</th>\n",
              "      <td>Tamara Traldi</td>\n",
              "      <td>6750</td>\n",
              "      <td>225000</td>\n",
              "      <td>213105</td>\n",
              "      <td>0.0316746</td>\n",
              "      <td>0.947132</td>\n",
              "    </tr>\n",
              "  </tbody>\n",
              "</table>\n",
              "</div>"
            ],
            "text/plain": [
              "               Unnamed: 0        março  ...      junho        julho\n",
              "0     Receita em Carteira       899475  ...     769951          NaN\n",
              "1          Novas receitas       249579  ...     600824          NaN\n",
              "2           Receita total      1149054  ...    1370775          NaN\n",
              "3                     NaN          NaN  ...        NaN          NaN\n",
              "4   CPS % - Receita Total       0.0592  ...     0.0594          NaN\n",
              "5                  Sobra        0.0108  ...     0.0106          NaN\n",
              "6                 Sobra $      12409.8  ...    14530.2          NaN\n",
              "7          Comissão (10%)      1240.98  ...    1453.02          956\n",
              "8                     NaN          NaN  ...        NaN          NaN\n",
              "9                     NaN          NaN  ...        NaN          NaN\n",
              "10                    NaN          NaN  ...        NaN          NaN\n",
              "11        Account Manager  Remuneração  ...      % CPS  Performance\n",
              "12          Adriana Mollo         5000  ...  0.0720373     0.971718\n",
              "13        Gustavo Santana         5000  ...  0.0658619      1.06283\n",
              "14    Gustavo Marcandalli         5000  ...  0.0850678     0.822873\n",
              "15        Paulo Smaniotto         5000  ...  0.0931227     0.751697\n",
              "16        Jocilaine Ribas         5000  ...  0.0660035      1.06055\n",
              "17                    NaN          NaN  ...        NaN          NaN\n",
              "18        Account Manager  Remuneração  ...      % CPS  Performance\n",
              "19         Michelle Graça         6000  ...  0.0405164      1.23407\n",
              "20                    NaN          NaN  ...        NaN          NaN\n",
              "21        Account Manager  Remuneração  ...      % CPS  Performance\n",
              "22          Amanda França         6750  ...  0.0409892       0.7319\n",
              "23          Tamara Traldi         6750  ...  0.0316746     0.947132\n",
              "\n",
              "[24 rows x 6 columns]"
            ]
          },
          "metadata": {
            "tags": []
          },
          "execution_count": 4
        }
      ]
    },
    {
      "cell_type": "code",
      "metadata": {
        "id": "kPfNQCFenFJ0",
        "outputId": "9d2279fb-ce6e-4216-b08e-c3171fd9c898",
        "colab": {
          "base_uri": "https://localhost:8080/",
          "height": 128
        }
      },
      "source": [
        "#@title\n",
        "dados.dropna(inplace=True)\n",
        "dados.index = range(dados.shape[0])\n",
        "dados.columns = (['Account Manager','Remuneração','Meta','Gerenciado','% CPS','Performance'])\n",
        "dados = dados.loc[:,['Account Manager','Performance']]\n",
        "managers_3 = dados[1:6]\n",
        "manager_5 = dados.iloc[[7]]\n",
        "managers_7 = dados[9:12]\n"
      ],
      "execution_count": null,
      "outputs": [
        {
          "output_type": "error",
          "ename": "SyntaxError",
          "evalue": "ignored",
          "traceback": [
            "\u001b[0;36m  File \u001b[0;32m\"<ipython-input-9-8c47b0a80d96>\"\u001b[0;36m, line \u001b[0;32m4\u001b[0m\n\u001b[0;31m    dados.columns = (['Account Manager','Remuneração','Meta','Gerenciado','% CPS','Performance'],kind=\"kde\")\u001b[0m\n\u001b[0m                                                                                                     ^\u001b[0m\n\u001b[0;31mSyntaxError\u001b[0m\u001b[0;31m:\u001b[0m invalid syntax\n"
          ]
        }
      ]
    },
    {
      "cell_type": "code",
      "metadata": {
        "id": "ZRFDpFjfvyCO",
        "colab": {
          "base_uri": "https://localhost:8080/",
          "height": 402
        },
        "collapsed": true,
        "outputId": "2e721076-d1a3-4a06-f048-0a82c1fda19c"
      },
      "source": [
        ""
      ],
      "execution_count": null,
      "outputs": [
        {
          "output_type": "execute_result",
          "data": {
            "text/html": [
              "<div>\n",
              "<style scoped>\n",
              "    .dataframe tbody tr th:only-of-type {\n",
              "        vertical-align: middle;\n",
              "    }\n",
              "\n",
              "    .dataframe tbody tr th {\n",
              "        vertical-align: top;\n",
              "    }\n",
              "\n",
              "    .dataframe thead th {\n",
              "        text-align: right;\n",
              "    }\n",
              "</style>\n",
              "<table border=\"1\" class=\"dataframe\">\n",
              "  <thead>\n",
              "    <tr style=\"text-align: right;\">\n",
              "      <th></th>\n",
              "      <th>Account Manager</th>\n",
              "      <th>Performance</th>\n",
              "    </tr>\n",
              "  </thead>\n",
              "  <tbody>\n",
              "    <tr>\n",
              "      <th>0</th>\n",
              "      <td>Comissão (10%)</td>\n",
              "      <td>956</td>\n",
              "    </tr>\n",
              "    <tr>\n",
              "      <th>1</th>\n",
              "      <td>Account Manager</td>\n",
              "      <td>Performance</td>\n",
              "    </tr>\n",
              "    <tr>\n",
              "      <th>2</th>\n",
              "      <td>Adriana Mollo</td>\n",
              "      <td>0.971718</td>\n",
              "    </tr>\n",
              "    <tr>\n",
              "      <th>3</th>\n",
              "      <td>Gustavo Santana</td>\n",
              "      <td>1.06283</td>\n",
              "    </tr>\n",
              "    <tr>\n",
              "      <th>4</th>\n",
              "      <td>Gustavo Marcandalli</td>\n",
              "      <td>0.822873</td>\n",
              "    </tr>\n",
              "    <tr>\n",
              "      <th>5</th>\n",
              "      <td>Paulo Smaniotto</td>\n",
              "      <td>0.751697</td>\n",
              "    </tr>\n",
              "    <tr>\n",
              "      <th>6</th>\n",
              "      <td>Jocilaine Ribas</td>\n",
              "      <td>1.06055</td>\n",
              "    </tr>\n",
              "    <tr>\n",
              "      <th>7</th>\n",
              "      <td>Account Manager</td>\n",
              "      <td>Performance</td>\n",
              "    </tr>\n",
              "    <tr>\n",
              "      <th>8</th>\n",
              "      <td>Michelle Graça</td>\n",
              "      <td>1.23407</td>\n",
              "    </tr>\n",
              "    <tr>\n",
              "      <th>9</th>\n",
              "      <td>Account Manager</td>\n",
              "      <td>Performance</td>\n",
              "    </tr>\n",
              "    <tr>\n",
              "      <th>10</th>\n",
              "      <td>Amanda França</td>\n",
              "      <td>0.7319</td>\n",
              "    </tr>\n",
              "    <tr>\n",
              "      <th>11</th>\n",
              "      <td>Tamara Traldi</td>\n",
              "      <td>0.947132</td>\n",
              "    </tr>\n",
              "  </tbody>\n",
              "</table>\n",
              "</div>"
            ],
            "text/plain": [
              "        Account Manager  Performance\n",
              "0        Comissão (10%)          956\n",
              "1       Account Manager  Performance\n",
              "2         Adriana Mollo     0.971718\n",
              "3       Gustavo Santana      1.06283\n",
              "4   Gustavo Marcandalli     0.822873\n",
              "5       Paulo Smaniotto     0.751697\n",
              "6       Jocilaine Ribas      1.06055\n",
              "7       Account Manager  Performance\n",
              "8        Michelle Graça      1.23407\n",
              "9       Account Manager  Performance\n",
              "10        Amanda França       0.7319\n",
              "11        Tamara Traldi     0.947132"
            ]
          },
          "metadata": {
            "tags": []
          },
          "execution_count": 6
        }
      ]
    },
    {
      "cell_type": "code",
      "metadata": {
        "colab": {
          "base_uri": "https://localhost:8080/",
          "height": 296
        },
        "collapsed": true,
        "id": "LLAxteD33FFU",
        "outputId": "a3ca1b4f-babc-4476-dea4-0a2fdfcdcaf9"
      },
      "source": [
        "#@title\n",
        "managers_3['Performance']*=100\n",
        "managers_3"
      ],
      "execution_count": null,
      "outputs": [
        {
          "output_type": "stream",
          "text": [
            "/usr/local/lib/python3.7/dist-packages/ipykernel_launcher.py:2: SettingWithCopyWarning: \n",
            "A value is trying to be set on a copy of a slice from a DataFrame.\n",
            "Try using .loc[row_indexer,col_indexer] = value instead\n",
            "\n",
            "See the caveats in the documentation: https://pandas.pydata.org/pandas-docs/stable/user_guide/indexing.html#returning-a-view-versus-a-copy\n",
            "  \n"
          ],
          "name": "stderr"
        },
        {
          "output_type": "execute_result",
          "data": {
            "text/html": [
              "<div>\n",
              "<style scoped>\n",
              "    .dataframe tbody tr th:only-of-type {\n",
              "        vertical-align: middle;\n",
              "    }\n",
              "\n",
              "    .dataframe tbody tr th {\n",
              "        vertical-align: top;\n",
              "    }\n",
              "\n",
              "    .dataframe thead th {\n",
              "        text-align: right;\n",
              "    }\n",
              "</style>\n",
              "<table border=\"1\" class=\"dataframe\">\n",
              "  <thead>\n",
              "    <tr style=\"text-align: right;\">\n",
              "      <th></th>\n",
              "      <th>Account Manager</th>\n",
              "      <th>Performance</th>\n",
              "    </tr>\n",
              "  </thead>\n",
              "  <tbody>\n",
              "    <tr>\n",
              "      <th>1</th>\n",
              "      <td>Account Manager</td>\n",
              "      <td>PerformancePerformancePerformancePerformancePe...</td>\n",
              "    </tr>\n",
              "    <tr>\n",
              "      <th>2</th>\n",
              "      <td>Adriana Mollo</td>\n",
              "      <td>97.1718</td>\n",
              "    </tr>\n",
              "    <tr>\n",
              "      <th>3</th>\n",
              "      <td>Gustavo Santana</td>\n",
              "      <td>106.283</td>\n",
              "    </tr>\n",
              "    <tr>\n",
              "      <th>4</th>\n",
              "      <td>Gustavo Marcandalli</td>\n",
              "      <td>82.2873</td>\n",
              "    </tr>\n",
              "    <tr>\n",
              "      <th>5</th>\n",
              "      <td>Paulo Smaniotto</td>\n",
              "      <td>75.1697</td>\n",
              "    </tr>\n",
              "  </tbody>\n",
              "</table>\n",
              "</div>"
            ],
            "text/plain": [
              "       Account Manager                                        Performance\n",
              "1      Account Manager  PerformancePerformancePerformancePerformancePe...\n",
              "2        Adriana Mollo                                            97.1718\n",
              "3      Gustavo Santana                                            106.283\n",
              "4  Gustavo Marcandalli                                            82.2873\n",
              "5      Paulo Smaniotto                                            75.1697"
            ]
          },
          "metadata": {
            "tags": []
          },
          "execution_count": 7
        }
      ]
    },
    {
      "cell_type": "code",
      "metadata": {
        "colab": {
          "base_uri": "https://localhost:8080/"
        },
        "collapsed": true,
        "id": "1bGlylnf6NsR",
        "outputId": "a37e748f-6d9a-4ca6-9463-70bc825590e5"
      },
      "source": [
        "#@title\n",
        "manager_5['Performance']*=100\n",
        "manager_5\n"
      ],
      "execution_count": null,
      "outputs": [
        {
          "output_type": "stream",
          "text": [
            "/usr/local/lib/python3.7/dist-packages/ipykernel_launcher.py:2: SettingWithCopyWarning: \n",
            "A value is trying to be set on a copy of a slice from a DataFrame.\n",
            "Try using .loc[row_indexer,col_indexer] = value instead\n",
            "\n",
            "See the caveats in the documentation: https://pandas.pydata.org/pandas-docs/stable/user_guide/indexing.html#returning-a-view-versus-a-copy\n",
            "  \n"
          ],
          "name": "stderr"
        },
        {
          "output_type": "execute_result",
          "data": {
            "text/html": [
              "<div>\n",
              "<style scoped>\n",
              "    .dataframe tbody tr th:only-of-type {\n",
              "        vertical-align: middle;\n",
              "    }\n",
              "\n",
              "    .dataframe tbody tr th {\n",
              "        vertical-align: top;\n",
              "    }\n",
              "\n",
              "    .dataframe thead th {\n",
              "        text-align: right;\n",
              "    }\n",
              "</style>\n",
              "<table border=\"1\" class=\"dataframe\">\n",
              "  <thead>\n",
              "    <tr style=\"text-align: right;\">\n",
              "      <th></th>\n",
              "      <th>Account Manager</th>\n",
              "      <th>Performance</th>\n",
              "    </tr>\n",
              "  </thead>\n",
              "  <tbody>\n",
              "    <tr>\n",
              "      <th>7</th>\n",
              "      <td>Michelle Graça</td>\n",
              "      <td>123.407</td>\n",
              "    </tr>\n",
              "  </tbody>\n",
              "</table>\n",
              "</div>"
            ],
            "text/plain": [
              "  Account Manager Performance\n",
              "7  Michelle Graça     123.407"
            ]
          },
          "metadata": {
            "tags": []
          },
          "execution_count": 35
        }
      ]
    },
    {
      "cell_type": "code",
      "metadata": {
        "colab": {
          "base_uri": "https://localhost:8080/",
          "height": 237
        },
        "collapsed": true,
        "id": "TOZ1qmuu6U9n",
        "outputId": "23de3605-dd1a-4a7a-8033-dc9c4a8df5a6"
      },
      "source": [
        "#@title\n",
        "managers_7['Performance']*=100\n",
        "managers_7"
      ],
      "execution_count": null,
      "outputs": [
        {
          "output_type": "stream",
          "text": [
            "/usr/local/lib/python3.7/dist-packages/ipykernel_launcher.py:2: SettingWithCopyWarning: \n",
            "A value is trying to be set on a copy of a slice from a DataFrame.\n",
            "Try using .loc[row_indexer,col_indexer] = value instead\n",
            "\n",
            "See the caveats in the documentation: https://pandas.pydata.org/pandas-docs/stable/user_guide/indexing.html#returning-a-view-versus-a-copy\n",
            "  \n"
          ],
          "name": "stderr"
        },
        {
          "output_type": "execute_result",
          "data": {
            "text/html": [
              "<div>\n",
              "<style scoped>\n",
              "    .dataframe tbody tr th:only-of-type {\n",
              "        vertical-align: middle;\n",
              "    }\n",
              "\n",
              "    .dataframe tbody tr th {\n",
              "        vertical-align: top;\n",
              "    }\n",
              "\n",
              "    .dataframe thead th {\n",
              "        text-align: right;\n",
              "    }\n",
              "</style>\n",
              "<table border=\"1\" class=\"dataframe\">\n",
              "  <thead>\n",
              "    <tr style=\"text-align: right;\">\n",
              "      <th></th>\n",
              "      <th>Account Manager</th>\n",
              "      <th>Performance</th>\n",
              "    </tr>\n",
              "  </thead>\n",
              "  <tbody>\n",
              "    <tr>\n",
              "      <th>9</th>\n",
              "      <td>Account Manager</td>\n",
              "      <td>PerformancePerformancePerformancePerformancePe...</td>\n",
              "    </tr>\n",
              "    <tr>\n",
              "      <th>10</th>\n",
              "      <td>Amanda França</td>\n",
              "      <td>73.19</td>\n",
              "    </tr>\n",
              "    <tr>\n",
              "      <th>11</th>\n",
              "      <td>Tamara Traldi</td>\n",
              "      <td>94.7132</td>\n",
              "    </tr>\n",
              "  </tbody>\n",
              "</table>\n",
              "</div>"
            ],
            "text/plain": [
              "    Account Manager                                        Performance\n",
              "9   Account Manager  PerformancePerformancePerformancePerformancePe...\n",
              "10    Amanda França                                              73.19\n",
              "11    Tamara Traldi                                            94.7132"
            ]
          },
          "metadata": {
            "tags": []
          },
          "execution_count": 8
        }
      ]
    },
    {
      "cell_type": "code",
      "metadata": {
        "colab": {
          "base_uri": "https://localhost:8080/"
        },
        "collapsed": true,
        "id": "-J0jwruG6jGx",
        "outputId": "ec400f54-9a8f-47b5-c342-3d1ca2821145"
      },
      "source": [
        "#@title\n",
        "sucessful_managers = pd.concat([managers_3.query('Performance>100'),manager_5.query('Performance>100'),managers_7.query('Performance>100')])\n",
        "sucessful_managers"
      ],
      "execution_count": null,
      "outputs": [
        {
          "output_type": "execute_result",
          "data": {
            "text/html": [
              "<div>\n",
              "<style scoped>\n",
              "    .dataframe tbody tr th:only-of-type {\n",
              "        vertical-align: middle;\n",
              "    }\n",
              "\n",
              "    .dataframe tbody tr th {\n",
              "        vertical-align: top;\n",
              "    }\n",
              "\n",
              "    .dataframe thead th {\n",
              "        text-align: right;\n",
              "    }\n",
              "</style>\n",
              "<table border=\"1\" class=\"dataframe\">\n",
              "  <thead>\n",
              "    <tr style=\"text-align: right;\">\n",
              "      <th></th>\n",
              "      <th>Account Manager</th>\n",
              "      <th>Performance</th>\n",
              "    </tr>\n",
              "  </thead>\n",
              "  <tbody>\n",
              "    <tr>\n",
              "      <th>2</th>\n",
              "      <td>Gustavo Santana</td>\n",
              "      <td>106.283</td>\n",
              "    </tr>\n",
              "    <tr>\n",
              "      <th>5</th>\n",
              "      <td>Jocilaine Ribas</td>\n",
              "      <td>106.055</td>\n",
              "    </tr>\n",
              "    <tr>\n",
              "      <th>7</th>\n",
              "      <td>Michelle Graça</td>\n",
              "      <td>123.407</td>\n",
              "    </tr>\n",
              "  </tbody>\n",
              "</table>\n",
              "</div>"
            ],
            "text/plain": [
              "   Account Manager Performance\n",
              "2  Gustavo Santana     106.283\n",
              "5  Jocilaine Ribas     106.055\n",
              "7   Michelle Graça     123.407"
            ]
          },
          "metadata": {
            "tags": []
          },
          "execution_count": 37
        }
      ]
    },
    {
      "cell_type": "markdown",
      "metadata": {
        "id": "x5V-VbVol_B1"
      },
      "source": [
        "# Parte Interessante"
      ]
    },
    {
      "cell_type": "code",
      "metadata": {
        "colab": {
          "base_uri": "https://localhost:8080/"
        },
        "id": "1r5Yk2H36tIc",
        "outputId": "bb15f192-8c7a-478d-e00d-58b700061a96"
      },
      "source": [
        "\n",
        "comissao =informacao.loc['junho']\n",
        "comissao"
      ],
      "execution_count": null,
      "outputs": [
        {
          "output_type": "execute_result",
          "data": {
            "text/plain": [
              "1453.0215000000007"
            ]
          },
          "metadata": {
            "tags": []
          },
          "execution_count": 43
        }
      ]
    },
    {
      "cell_type": "code",
      "metadata": {
        "colab": {
          "base_uri": "https://localhost:8080/",
          "height": 136
        },
        "cellView": "form",
        "id": "wIsrR9qA-rG3",
        "outputId": "e3a0d613-1cb2-4343-ceb2-b73c57244046"
      },
      "source": [
        "#@title\n",
        "total = 0\n",
        "a_receber=[]\n",
        "nomes = []\n",
        "for performance in sucessful_managers.Performance:\n",
        "  total+=performance\n",
        "for performance in sucessful_managers.Performance:\n",
        "  a_receber.append(comissao*(performance/total))\n",
        "for name in sucessful_managers['Account Manager']:\n",
        "  nomes.append(name)\n",
        "df= {'Pessoa':nomes,'A receber': a_receber}\n",
        "df_a_receber = pd.DataFrame(df)\n",
        "\n",
        "df_a_receber\n"
      ],
      "execution_count": null,
      "outputs": [
        {
          "output_type": "execute_result",
          "data": {
            "text/html": [
              "<div>\n",
              "<style scoped>\n",
              "    .dataframe tbody tr th:only-of-type {\n",
              "        vertical-align: middle;\n",
              "    }\n",
              "\n",
              "    .dataframe tbody tr th {\n",
              "        vertical-align: top;\n",
              "    }\n",
              "\n",
              "    .dataframe thead th {\n",
              "        text-align: right;\n",
              "    }\n",
              "</style>\n",
              "<table border=\"1\" class=\"dataframe\">\n",
              "  <thead>\n",
              "    <tr style=\"text-align: right;\">\n",
              "      <th></th>\n",
              "      <th>Pessoa</th>\n",
              "      <th>A receber</th>\n",
              "    </tr>\n",
              "  </thead>\n",
              "  <tbody>\n",
              "    <tr>\n",
              "      <th>0</th>\n",
              "      <td>Gustavo Santana</td>\n",
              "      <td>459.966970</td>\n",
              "    </tr>\n",
              "    <tr>\n",
              "      <th>1</th>\n",
              "      <td>Jocilaine Ribas</td>\n",
              "      <td>458.980224</td>\n",
              "    </tr>\n",
              "    <tr>\n",
              "      <th>2</th>\n",
              "      <td>Michelle Graça</td>\n",
              "      <td>534.074306</td>\n",
              "    </tr>\n",
              "  </tbody>\n",
              "</table>\n",
              "</div>"
            ],
            "text/plain": [
              "            Pessoa   A receber\n",
              "0  Gustavo Santana  459.966970\n",
              "1  Jocilaine Ribas  458.980224\n",
              "2   Michelle Graça  534.074306"
            ]
          },
          "metadata": {
            "tags": []
          },
          "execution_count": 44
        }
      ]
    },
    {
      "cell_type": "code",
      "metadata": {
        "cellView": "form",
        "id": "8_ksAild-vc-"
      },
      "source": [
        "#@title\n",
        "comissao =informacao.loc['abrilr']"
      ],
      "execution_count": null,
      "outputs": []
    },
    {
      "cell_type": "code",
      "metadata": {
        "colab": {
          "base_uri": "https://localhost:8080/",
          "height": 284
        },
        "cellView": "form",
        "id": "RKDtPc0T_Eoi",
        "outputId": "4ff755ce-4f80-47f5-bc29-a5bf2390c641"
      },
      "source": [
        "#@title\n",
        "all_managers = pd.concat([managers_3 ,manager_5,managers_7])\n",
        "all_managers.index = range(all_managers.shape[0])\n",
        "all_managers.loc[:,['Account Manager','Performance']]"
      ],
      "execution_count": null,
      "outputs": [
        {
          "output_type": "execute_result",
          "data": {
            "text/html": [
              "<div>\n",
              "<style scoped>\n",
              "    .dataframe tbody tr th:only-of-type {\n",
              "        vertical-align: middle;\n",
              "    }\n",
              "\n",
              "    .dataframe tbody tr th {\n",
              "        vertical-align: top;\n",
              "    }\n",
              "\n",
              "    .dataframe thead th {\n",
              "        text-align: right;\n",
              "    }\n",
              "</style>\n",
              "<table border=\"1\" class=\"dataframe\">\n",
              "  <thead>\n",
              "    <tr style=\"text-align: right;\">\n",
              "      <th></th>\n",
              "      <th>Account Manager</th>\n",
              "      <th>Performance</th>\n",
              "    </tr>\n",
              "  </thead>\n",
              "  <tbody>\n",
              "    <tr>\n",
              "      <th>0</th>\n",
              "      <td>Adriana Mollo</td>\n",
              "      <td>97.1718</td>\n",
              "    </tr>\n",
              "    <tr>\n",
              "      <th>1</th>\n",
              "      <td>Gustavo Santana</td>\n",
              "      <td>106.283</td>\n",
              "    </tr>\n",
              "    <tr>\n",
              "      <th>2</th>\n",
              "      <td>Gustavo Marcandalli</td>\n",
              "      <td>82.2873</td>\n",
              "    </tr>\n",
              "    <tr>\n",
              "      <th>3</th>\n",
              "      <td>Paulo Smaniotto</td>\n",
              "      <td>75.1697</td>\n",
              "    </tr>\n",
              "    <tr>\n",
              "      <th>4</th>\n",
              "      <td>Jocilaine Ribas</td>\n",
              "      <td>106.055</td>\n",
              "    </tr>\n",
              "    <tr>\n",
              "      <th>5</th>\n",
              "      <td>Michelle Graça</td>\n",
              "      <td>123.407</td>\n",
              "    </tr>\n",
              "    <tr>\n",
              "      <th>6</th>\n",
              "      <td>Amanda França</td>\n",
              "      <td>73.19</td>\n",
              "    </tr>\n",
              "    <tr>\n",
              "      <th>7</th>\n",
              "      <td>Tamara Traldi</td>\n",
              "      <td>94.7132</td>\n",
              "    </tr>\n",
              "  </tbody>\n",
              "</table>\n",
              "</div>"
            ],
            "text/plain": [
              "       Account Manager Performance\n",
              "0        Adriana Mollo     97.1718\n",
              "1      Gustavo Santana     106.283\n",
              "2  Gustavo Marcandalli     82.2873\n",
              "3      Paulo Smaniotto     75.1697\n",
              "4      Jocilaine Ribas     106.055\n",
              "5       Michelle Graça     123.407\n",
              "6        Amanda França       73.19\n",
              "7        Tamara Traldi     94.7132"
            ]
          },
          "metadata": {
            "tags": []
          },
          "execution_count": 45
        }
      ]
    },
    {
      "cell_type": "code",
      "metadata": {
        "cellView": "form",
        "id": "wfmRRoNFbaut"
      },
      "source": [
        "#@title\n",
        "import seaborn as sns"
      ],
      "execution_count": null,
      "outputs": []
    },
    {
      "cell_type": "code",
      "metadata": {
        "colab": {
          "base_uri": "https://localhost:8080/",
          "height": 350
        },
        "cellView": "form",
        "id": "DzPLqZgCfolC",
        "outputId": "ff1c61aa-e075-45c1-ddee-0f996cdad8d8"
      },
      "source": [
        "#@title\n",
        "sns.boxplot(all_managers.Performance)"
      ],
      "execution_count": null,
      "outputs": [
        {
          "output_type": "stream",
          "text": [
            "/usr/local/lib/python3.7/dist-packages/seaborn/_decorators.py:43: FutureWarning: Pass the following variable as a keyword arg: x. From version 0.12, the only valid positional argument will be `data`, and passing other arguments without an explicit keyword will result in an error or misinterpretation.\n",
            "  FutureWarning\n"
          ],
          "name": "stderr"
        },
        {
          "output_type": "execute_result",
          "data": {
            "text/plain": [
              "<matplotlib.axes._subplots.AxesSubplot at 0x7fc00ff97990>"
            ]
          },
          "metadata": {
            "tags": []
          },
          "execution_count": 16
        },
        {
          "output_type": "display_data",
          "data": {
            "image/png": "[encoded data removed]",
            "text/plain": [
              "<Figure size 432x288 with 1 Axes>"
            ]
          },
          "metadata": {
            "tags": [],
            "needs_background": "light"
          }
        }
      ]
    },
    {
      "cell_type": "code",
      "metadata": {
        "colab": {
          "base_uri": "https://localhost:8080/",
          "height": 369
        },
        "cellView": "form",
        "id": "8FlD8XOkf3mK",
        "outputId": "afc977a3-7942-4d5b-fac9-a49630255ce6"
      },
      "source": [
        "#@title\n",
        "ax = sns.displot(all_managers.Performance,bins = 10)"
      ],
      "execution_count": null,
      "outputs": [
        {
          "output_type": "display_data",
          "data": {
            "image/png": "[encoded data removed]",
            "text/plain": [
              "<Figure size 360x360 with 1 Axes>"
            ]
          },
          "metadata": {
            "tags": [],
            "needs_background": "light"
          }
        }
      ]
    },
    {
      "cell_type": "code",
      "metadata": {
        "id": "k1ueQOfye-V0"
      },
      "source": [
        ""
      ],
      "execution_count": null,
      "outputs": []
    }
  ]
}